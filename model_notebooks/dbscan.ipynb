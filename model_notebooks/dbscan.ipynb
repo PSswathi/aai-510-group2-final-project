{
 "cells": [
  {
   "cell_type": "code",
   "execution_count": 37,
   "metadata": {},
   "outputs": [],
   "source": [
    "from matplotlib import pyplot as plt\n",
    "import numpy as np\n",
    "import pandas as pd\n",
    "from sklearn.cluster import DBSCAN\n",
    "from sklearn.preprocessing import StandardScaler\n",
    "from sklearn.impute import SimpleImputer\n",
    "from util.model_eval import evaluate_clustering\n",
    "from util.visualize_clusters import visualize_clusters\n"
   ]
  },
  {
   "cell_type": "code",
   "execution_count": 38,
   "metadata": {},
   "outputs": [
    {
     "data": {
      "text/html": [
       "<div>\n",
       "<style scoped>\n",
       "    .dataframe tbody tr th:only-of-type {\n",
       "        vertical-align: middle;\n",
       "    }\n",
       "\n",
       "    .dataframe tbody tr th {\n",
       "        vertical-align: top;\n",
       "    }\n",
       "\n",
       "    .dataframe thead th {\n",
       "        text-align: right;\n",
       "    }\n",
       "</style>\n",
       "<table border=\"1\" class=\"dataframe\">\n",
       "  <thead>\n",
       "    <tr style=\"text-align: right;\">\n",
       "      <th></th>\n",
       "      <th>Degree</th>\n",
       "      <th>ClusteringCoefficient</th>\n",
       "      <th>BetweennessCentrality</th>\n",
       "      <th>ClosenessCentrality</th>\n",
       "      <th>PageRank</th>\n",
       "      <th>EigenvectorCentrality</th>\n",
       "      <th>Eccentricity</th>\n",
       "      <th>Constraint</th>\n",
       "      <th>MeanNeighborDegree</th>\n",
       "      <th>LocalClusterSizes</th>\n",
       "      <th>LocalClusterDensities</th>\n",
       "      <th>sorensen_indices</th>\n",
       "      <th>participation_coefficient</th>\n",
       "      <th>CommunitySize</th>\n",
       "      <th>CommunityDensity</th>\n",
       "      <th>CommunityAssortativity</th>\n",
       "    </tr>\n",
       "  </thead>\n",
       "  <tbody>\n",
       "    <tr>\n",
       "      <th>0</th>\n",
       "      <td>0.700547</td>\n",
       "      <td>0.419118</td>\n",
       "      <td>-0.057036</td>\n",
       "      <td>0.261376</td>\n",
       "      <td>1.000118</td>\n",
       "      <td>0.000006</td>\n",
       "      <td>1.043499</td>\n",
       "      <td>1.048030</td>\n",
       "      <td>-1.206914</td>\n",
       "      <td>-1.187895</td>\n",
       "      <td>0.047468</td>\n",
       "      <td>0.128317</td>\n",
       "      <td>1.078821</td>\n",
       "      <td>-0.849481</td>\n",
       "      <td>0.042446</td>\n",
       "      <td>-0.133841</td>\n",
       "    </tr>\n",
       "    <tr>\n",
       "      <th>1</th>\n",
       "      <td>0.597675</td>\n",
       "      <td>0.888889</td>\n",
       "      <td>-0.057268</td>\n",
       "      <td>0.261258</td>\n",
       "      <td>1.000100</td>\n",
       "      <td>0.000002</td>\n",
       "      <td>1.043499</td>\n",
       "      <td>1.100383</td>\n",
       "      <td>-1.206914</td>\n",
       "      <td>-1.187895</td>\n",
       "      <td>0.047468</td>\n",
       "      <td>0.122203</td>\n",
       "      <td>1.073933</td>\n",
       "      <td>-0.849481</td>\n",
       "      <td>0.042446</td>\n",
       "      <td>-0.133841</td>\n",
       "    </tr>\n",
       "    <tr>\n",
       "      <th>2</th>\n",
       "      <td>0.700547</td>\n",
       "      <td>0.632353</td>\n",
       "      <td>-0.057130</td>\n",
       "      <td>0.261376</td>\n",
       "      <td>1.000113</td>\n",
       "      <td>0.000007</td>\n",
       "      <td>1.043499</td>\n",
       "      <td>1.048897</td>\n",
       "      <td>-1.206914</td>\n",
       "      <td>-1.187895</td>\n",
       "      <td>0.047468</td>\n",
       "      <td>0.143140</td>\n",
       "      <td>1.078447</td>\n",
       "      <td>-0.849481</td>\n",
       "      <td>0.042446</td>\n",
       "      <td>-0.133841</td>\n",
       "    </tr>\n",
       "    <tr>\n",
       "      <th>3</th>\n",
       "      <td>0.597675</td>\n",
       "      <td>0.866667</td>\n",
       "      <td>-0.057259</td>\n",
       "      <td>0.261258</td>\n",
       "      <td>1.000116</td>\n",
       "      <td>0.000002</td>\n",
       "      <td>1.043499</td>\n",
       "      <td>1.149038</td>\n",
       "      <td>-1.206914</td>\n",
       "      <td>-1.187895</td>\n",
       "      <td>0.047468</td>\n",
       "      <td>0.110459</td>\n",
       "      <td>1.074068</td>\n",
       "      <td>-0.849481</td>\n",
       "      <td>0.042446</td>\n",
       "      <td>-0.133841</td>\n",
       "    </tr>\n",
       "    <tr>\n",
       "      <th>4</th>\n",
       "      <td>0.643779</td>\n",
       "      <td>0.333333</td>\n",
       "      <td>-0.057085</td>\n",
       "      <td>0.261308</td>\n",
       "      <td>1.000101</td>\n",
       "      <td>0.000012</td>\n",
       "      <td>1.043499</td>\n",
       "      <td>1.056431</td>\n",
       "      <td>-1.206914</td>\n",
       "      <td>-1.187895</td>\n",
       "      <td>0.047468</td>\n",
       "      <td>0.119667</td>\n",
       "      <td>1.076862</td>\n",
       "      <td>-0.849481</td>\n",
       "      <td>0.042446</td>\n",
       "      <td>-0.133841</td>\n",
       "    </tr>\n",
       "  </tbody>\n",
       "</table>\n",
       "</div>"
      ],
      "text/plain": [
       "     Degree  ClusteringCoefficient  BetweennessCentrality  \\\n",
       "0  0.700547               0.419118              -0.057036   \n",
       "1  0.597675               0.888889              -0.057268   \n",
       "2  0.700547               0.632353              -0.057130   \n",
       "3  0.597675               0.866667              -0.057259   \n",
       "4  0.643779               0.333333              -0.057085   \n",
       "\n",
       "   ClosenessCentrality  PageRank  EigenvectorCentrality  Eccentricity  \\\n",
       "0             0.261376  1.000118               0.000006      1.043499   \n",
       "1             0.261258  1.000100               0.000002      1.043499   \n",
       "2             0.261376  1.000113               0.000007      1.043499   \n",
       "3             0.261258  1.000116               0.000002      1.043499   \n",
       "4             0.261308  1.000101               0.000012      1.043499   \n",
       "\n",
       "   Constraint  MeanNeighborDegree  LocalClusterSizes  LocalClusterDensities  \\\n",
       "0    1.048030           -1.206914          -1.187895               0.047468   \n",
       "1    1.100383           -1.206914          -1.187895               0.047468   \n",
       "2    1.048897           -1.206914          -1.187895               0.047468   \n",
       "3    1.149038           -1.206914          -1.187895               0.047468   \n",
       "4    1.056431           -1.206914          -1.187895               0.047468   \n",
       "\n",
       "   sorensen_indices  participation_coefficient  CommunitySize  \\\n",
       "0          0.128317                   1.078821      -0.849481   \n",
       "1          0.122203                   1.073933      -0.849481   \n",
       "2          0.143140                   1.078447      -0.849481   \n",
       "3          0.110459                   1.074068      -0.849481   \n",
       "4          0.119667                   1.076862      -0.849481   \n",
       "\n",
       "   CommunityDensity  CommunityAssortativity  \n",
       "0          0.042446               -0.133841  \n",
       "1          0.042446               -0.133841  \n",
       "2          0.042446               -0.133841  \n",
       "3          0.042446               -0.133841  \n",
       "4          0.042446               -0.133841  "
      ]
     },
     "execution_count": 38,
     "metadata": {},
     "output_type": "execute_result"
    }
   ],
   "source": [
    "df = pd.read_csv('../prepared_data.csv')\n",
    "features = df.drop(columns='Node')\n",
    "features.head()"
   ]
  },
  {
   "cell_type": "code",
   "execution_count": 39,
   "metadata": {},
   "outputs": [
    {
     "data": {
      "text/plain": [
       "Degree                        0\n",
       "ClusteringCoefficient         0\n",
       "BetweennessCentrality         0\n",
       "ClosenessCentrality           0\n",
       "PageRank                      0\n",
       "EigenvectorCentrality         0\n",
       "Eccentricity                  0\n",
       "Constraint                    0\n",
       "MeanNeighborDegree            0\n",
       "LocalClusterSizes             0\n",
       "LocalClusterDensities         0\n",
       "sorensen_indices              0\n",
       "participation_coefficient    29\n",
       "CommunitySize                 0\n",
       "CommunityDensity              0\n",
       "CommunityAssortativity        0\n",
       "dtype: int64"
      ]
     },
     "execution_count": 39,
     "metadata": {},
     "output_type": "execute_result"
    }
   ],
   "source": [
    "features.isnull().sum()"
   ]
  },
  {
   "attachments": {},
   "cell_type": "markdown",
   "metadata": {},
   "source": [
    "Imputing missing values with the feature's median"
   ]
  },
  {
   "cell_type": "code",
   "execution_count": 40,
   "metadata": {},
   "outputs": [
    {
     "data": {
      "text/plain": [
       "Degree                       0\n",
       "ClusteringCoefficient        0\n",
       "BetweennessCentrality        0\n",
       "ClosenessCentrality          0\n",
       "PageRank                     0\n",
       "EigenvectorCentrality        0\n",
       "Eccentricity                 0\n",
       "Constraint                   0\n",
       "MeanNeighborDegree           0\n",
       "LocalClusterSizes            0\n",
       "LocalClusterDensities        0\n",
       "sorensen_indices             0\n",
       "participation_coefficient    0\n",
       "CommunitySize                0\n",
       "CommunityDensity             0\n",
       "CommunityAssortativity       0\n",
       "dtype: int64"
      ]
     },
     "execution_count": 40,
     "metadata": {},
     "output_type": "execute_result"
    }
   ],
   "source": [
    "imputer = SimpleImputer(strategy=\"median\")\n",
    "features[['participation_coefficient']] = imputer.fit_transform(features[['participation_coefficient']])\n",
    "features.isnull().sum()"
   ]
  },
  {
   "attachments": {},
   "cell_type": "markdown",
   "metadata": {},
   "source": [
    "Create initial DBSCAN model. \n",
    "\n",
    "The result is 18 clusters with 24 noise nodes."
   ]
  },
  {
   "cell_type": "code",
   "execution_count": 41,
   "metadata": {},
   "outputs": [
    {
     "data": {
      "text/plain": [
       "(18, np.int64(24))"
      ]
     },
     "execution_count": 41,
     "metadata": {},
     "output_type": "execute_result"
    }
   ],
   "source": [
    "dbscan = DBSCAN()\n",
    "initial_labels = dbscan.fit_predict(features)\n",
    "num_clusters = len(set(initial_labels)) - (1 if -1 in initial_labels else 0)\n",
    "num_noise = np.sum(initial_labels == -1)\n",
    "\n",
    "num_clusters, num_noise"
   ]
  },
  {
   "cell_type": "code",
   "execution_count": 42,
   "metadata": {},
   "outputs": [
    {
     "data": {
      "image/png": "[encoded data removed]",
      "text/plain": [
       "<Figure size 600x250 with 1 Axes>"
      ]
     },
     "metadata": {},
     "output_type": "display_data"
    },
    {
     "data": {
      "text/plain": [
       "{'n_clusters': 18,\n",
       " 'n_noise': np.int64(24),\n",
       " 'silhouette_score': np.float64(0.58328146706206),\n",
       " 'davies_bouldin_score': np.float64(1.4221932574205856),\n",
       " 'calinski_harabasz_score': np.float64(3993.368159029677)}"
      ]
     },
     "execution_count": 42,
     "metadata": {},
     "output_type": "execute_result"
    }
   ],
   "source": [
    "evaluate_clustering(features, initial_labels)"
   ]
  },
  {
   "cell_type": "code",
   "execution_count": 43,
   "metadata": {},
   "outputs": [
    {
     "data": {
      "image/png": "[encoded data removed]",
      "text/plain": [
       "<Figure size 1000x600 with 1 Axes>"
      ]
     },
     "metadata": {},
     "output_type": "display_data"
    }
   ],
   "source": [
    "visualize_clusters(features, initial_labels)"
   ]
  },
  {
   "cell_type": "code",
   "execution_count": 44,
   "metadata": {},
   "outputs": [
    {
     "data": {
      "text/html": [
       "<div>\n",
       "<style scoped>\n",
       "    .dataframe tbody tr th:only-of-type {\n",
       "        vertical-align: middle;\n",
       "    }\n",
       "\n",
       "    .dataframe tbody tr th {\n",
       "        vertical-align: top;\n",
       "    }\n",
       "\n",
       "    .dataframe thead th {\n",
       "        text-align: right;\n",
       "    }\n",
       "</style>\n",
       "<table border=\"1\" class=\"dataframe\">\n",
       "  <thead>\n",
       "    <tr style=\"text-align: right;\">\n",
       "      <th></th>\n",
       "      <th>Degree</th>\n",
       "      <th>ClusteringCoefficient</th>\n",
       "      <th>BetweennessCentrality</th>\n",
       "      <th>ClosenessCentrality</th>\n",
       "      <th>PageRank</th>\n",
       "      <th>EigenvectorCentrality</th>\n",
       "      <th>Eccentricity</th>\n",
       "      <th>Constraint</th>\n",
       "      <th>MeanNeighborDegree</th>\n",
       "      <th>LocalClusterSizes</th>\n",
       "      <th>LocalClusterDensities</th>\n",
       "      <th>sorensen_indices</th>\n",
       "      <th>participation_coefficient</th>\n",
       "      <th>CommunitySize</th>\n",
       "      <th>CommunityDensity</th>\n",
       "      <th>CommunityAssortativity</th>\n",
       "      <th>cluster</th>\n",
       "    </tr>\n",
       "  </thead>\n",
       "  <tbody>\n",
       "    <tr>\n",
       "      <th>0</th>\n",
       "      <td>0.700547</td>\n",
       "      <td>0.419118</td>\n",
       "      <td>-0.057036</td>\n",
       "      <td>0.261376</td>\n",
       "      <td>1.000118</td>\n",
       "      <td>0.000006</td>\n",
       "      <td>1.043499</td>\n",
       "      <td>1.048030</td>\n",
       "      <td>-1.206914</td>\n",
       "      <td>-1.187895</td>\n",
       "      <td>0.047468</td>\n",
       "      <td>0.128317</td>\n",
       "      <td>1.078821</td>\n",
       "      <td>-0.849481</td>\n",
       "      <td>0.042446</td>\n",
       "      <td>-0.133841</td>\n",
       "      <td>0</td>\n",
       "    </tr>\n",
       "    <tr>\n",
       "      <th>1</th>\n",
       "      <td>0.597675</td>\n",
       "      <td>0.888889</td>\n",
       "      <td>-0.057268</td>\n",
       "      <td>0.261258</td>\n",
       "      <td>1.000100</td>\n",
       "      <td>0.000002</td>\n",
       "      <td>1.043499</td>\n",
       "      <td>1.100383</td>\n",
       "      <td>-1.206914</td>\n",
       "      <td>-1.187895</td>\n",
       "      <td>0.047468</td>\n",
       "      <td>0.122203</td>\n",
       "      <td>1.073933</td>\n",
       "      <td>-0.849481</td>\n",
       "      <td>0.042446</td>\n",
       "      <td>-0.133841</td>\n",
       "      <td>0</td>\n",
       "    </tr>\n",
       "    <tr>\n",
       "      <th>2</th>\n",
       "      <td>0.700547</td>\n",
       "      <td>0.632353</td>\n",
       "      <td>-0.057130</td>\n",
       "      <td>0.261376</td>\n",
       "      <td>1.000113</td>\n",
       "      <td>0.000007</td>\n",
       "      <td>1.043499</td>\n",
       "      <td>1.048897</td>\n",
       "      <td>-1.206914</td>\n",
       "      <td>-1.187895</td>\n",
       "      <td>0.047468</td>\n",
       "      <td>0.143140</td>\n",
       "      <td>1.078447</td>\n",
       "      <td>-0.849481</td>\n",
       "      <td>0.042446</td>\n",
       "      <td>-0.133841</td>\n",
       "      <td>0</td>\n",
       "    </tr>\n",
       "    <tr>\n",
       "      <th>3</th>\n",
       "      <td>0.597675</td>\n",
       "      <td>0.866667</td>\n",
       "      <td>-0.057259</td>\n",
       "      <td>0.261258</td>\n",
       "      <td>1.000116</td>\n",
       "      <td>0.000002</td>\n",
       "      <td>1.043499</td>\n",
       "      <td>1.149038</td>\n",
       "      <td>-1.206914</td>\n",
       "      <td>-1.187895</td>\n",
       "      <td>0.047468</td>\n",
       "      <td>0.110459</td>\n",
       "      <td>1.074068</td>\n",
       "      <td>-0.849481</td>\n",
       "      <td>0.042446</td>\n",
       "      <td>-0.133841</td>\n",
       "      <td>0</td>\n",
       "    </tr>\n",
       "    <tr>\n",
       "      <th>4</th>\n",
       "      <td>0.643779</td>\n",
       "      <td>0.333333</td>\n",
       "      <td>-0.057085</td>\n",
       "      <td>0.261308</td>\n",
       "      <td>1.000101</td>\n",
       "      <td>0.000012</td>\n",
       "      <td>1.043499</td>\n",
       "      <td>1.056431</td>\n",
       "      <td>-1.206914</td>\n",
       "      <td>-1.187895</td>\n",
       "      <td>0.047468</td>\n",
       "      <td>0.119667</td>\n",
       "      <td>1.076862</td>\n",
       "      <td>-0.849481</td>\n",
       "      <td>0.042446</td>\n",
       "      <td>-0.133841</td>\n",
       "      <td>0</td>\n",
       "    </tr>\n",
       "  </tbody>\n",
       "</table>\n",
       "</div>"
      ],
      "text/plain": [
       "     Degree  ClusteringCoefficient  BetweennessCentrality  \\\n",
       "0  0.700547               0.419118              -0.057036   \n",
       "1  0.597675               0.888889              -0.057268   \n",
       "2  0.700547               0.632353              -0.057130   \n",
       "3  0.597675               0.866667              -0.057259   \n",
       "4  0.643779               0.333333              -0.057085   \n",
       "\n",
       "   ClosenessCentrality  PageRank  EigenvectorCentrality  Eccentricity  \\\n",
       "0             0.261376  1.000118               0.000006      1.043499   \n",
       "1             0.261258  1.000100               0.000002      1.043499   \n",
       "2             0.261376  1.000113               0.000007      1.043499   \n",
       "3             0.261258  1.000116               0.000002      1.043499   \n",
       "4             0.261308  1.000101               0.000012      1.043499   \n",
       "\n",
       "   Constraint  MeanNeighborDegree  LocalClusterSizes  LocalClusterDensities  \\\n",
       "0    1.048030           -1.206914          -1.187895               0.047468   \n",
       "1    1.100383           -1.206914          -1.187895               0.047468   \n",
       "2    1.048897           -1.206914          -1.187895               0.047468   \n",
       "3    1.149038           -1.206914          -1.187895               0.047468   \n",
       "4    1.056431           -1.206914          -1.187895               0.047468   \n",
       "\n",
       "   sorensen_indices  participation_coefficient  CommunitySize  \\\n",
       "0          0.128317                   1.078821      -0.849481   \n",
       "1          0.122203                   1.073933      -0.849481   \n",
       "2          0.143140                   1.078447      -0.849481   \n",
       "3          0.110459                   1.074068      -0.849481   \n",
       "4          0.119667                   1.076862      -0.849481   \n",
       "\n",
       "   CommunityDensity  CommunityAssortativity  cluster  \n",
       "0          0.042446               -0.133841        0  \n",
       "1          0.042446               -0.133841        0  \n",
       "2          0.042446               -0.133841        0  \n",
       "3          0.042446               -0.133841        0  \n",
       "4          0.042446               -0.133841        0  "
      ]
     },
     "execution_count": 44,
     "metadata": {},
     "output_type": "execute_result"
    }
   ],
   "source": [
    "features_w_initial_dbscan_labels = features.copy()\n",
    "features_w_initial_dbscan_labels['cluster'] = initial_labels\n",
    "features_w_initial_dbscan_labels.head()"
   ]
  }
 ],
 "metadata": {
  "kernelspec": {
   "display_name": "venv",
   "language": "python",
   "name": "python3"
  },
  "language_info": {
   "codemirror_mode": {
    "name": "ipython",
    "version": 3
   },
   "file_extension": ".py",
   "mimetype": "text/x-python",
   "name": "python",
   "nbconvert_exporter": "python",
   "pygments_lexer": "ipython3",
   "version": "3.11.1"
  },
  "orig_nbformat": 4,
  "vscode": {
   "interpreter": {
    "hash": "cde9d50573ccd92e2f85e4e15ed83565cbc7f005d0fc6043d183fd0feba80d8a"
   }
  }
 },
 "nbformat": 4,
 "nbformat_minor": 2
}
